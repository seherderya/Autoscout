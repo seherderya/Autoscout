{
 "cells": [
  {
   "cell_type": "code",
   "execution_count": null,
   "id": "2db0b07f-a201-4f79-bcb4-8e4c1b57de8e",
   "metadata": {},
   "outputs": [],
   "source": [
    "import numpy as np\n",
    "import pandas as pd\n",
    "import seaborn as sns\n",
    "import matplotlib.pyplot as plt\n",
    "from scipy import stats\n",
    "from scipy.stats.mstats import winsorise\n",
    "import re\n",
    "from ipwidgets import interact, Dropdown, Intslider, output, widgets\n"
   ]
  },
  {
   "cell_type": "code",
   "execution_count": null,
   "id": "ee84a706-1700-4213-889f-5506214c5988",
   "metadata": {},
   "outputs": [],
   "source": [
    "df0= "
   ]
  },
  {
   "cell_type": "code",
   "execution_count": null,
   "id": "5868930a-e4f1-47c3-9834-29827da2bcc5",
   "metadata": {},
   "outputs": [],
   "source": [
    "df.head(3).T"
   ]
  },
  {
   "cell_type": "code",
   "execution_count": null,
   "id": "b8e17fd8-39d4-4d30-91f7-9bfee80fc607",
   "metadata": {},
   "outputs": [],
   "source": [
    "df.shape"
   ]
  },
  {
   "cell_type": "code",
   "execution_count": null,
   "id": "afd05034-cdaf-4baa-b1a7-dcb951bfc6d2",
   "metadata": {},
   "outputs": [],
   "source": [
    "df.info"
   ]
  },
  {
   "cell_type": "code",
   "execution_count": null,
   "id": "6815bfe7-75a6-4d9c-87c3-58d3ce48508c",
   "metadata": {},
   "outputs": [],
   "source": [
    "missing_percentage = df.isnull().sum"
   ]
  },
  {
   "cell_type": "code",
   "execution_count": null,
   "id": "38093ef9-272f-4ed5-97df-f27a2c38743f",
   "metadata": {},
   "outputs": [],
   "source": [
    "def df_nans(df, limit)\n",
    "missing = df.isnull.sum()*100/\n",
    "def show_missing_values\n"
   ]
  },
  {
   "cell_type": "code",
   "execution_count": null,
   "id": "e272eda5-94ef-4c94-943a-2a6f9c756d0e",
   "metadata": {},
   "outputs": [],
   "source": [
    "interactshow_missing_values(limit):\n",
    "return"
   ]
  },
  {
   "cell_type": "code",
   "execution_count": null,
   "id": "6bebcff0-177b-4232-b57d-d55c44735ce0",
   "metadata": {},
   "outputs": [],
   "source": [
    "interact(show_missing_values"
   ]
  },
  {
   "cell_type": "code",
   "execution_count": null,
   "id": "c48bf465-f370-4868-a8f7-779f2023752e",
   "metadata": {},
   "outputs": [],
   "source": []
  },
  {
   "cell_type": "code",
   "execution_count": null,
   "id": "86e7bf7c-0177-4738-9329-10cd32df123c",
   "metadata": {},
   "outputs": [],
   "source": []
  },
  {
   "cell_type": "code",
   "execution_count": null,
   "id": "64f26afe-afad-4010-96e5-ecc75be1b401",
   "metadata": {},
   "outputs": [],
   "source": [
    "%%writefile script.py\n",
    "df.duplicated(keep=False).sum()\n",
    "\n"
   ]
  },
  {
   "cell_type": "code",
   "execution_count": null,
   "id": "033775b5-e0c9-496c-b0a1-8a59deb2ca34",
   "metadata": {},
   "outputs": [],
   "source": [
    "def first_looking(*cols):\n",
    "    "
   ]
  },
  {
   "cell_type": "code",
   "execution_count": null,
   "id": "d5400135-ef54-4721-93c7-99fc16999800",
   "metadata": {},
   "outputs": [],
   "source": [
    "df{"
   ]
  },
  {
   "cell_type": "code",
   "execution_count": null,
   "id": "1267bb1e-4e1c-4aa2-ba2b-eca13153e696",
   "metadata": {},
   "outputs": [],
   "source": [
    "def fill_most_freq(df, group_col, col_name):\n",
    "    for group in list(df[group_col].unique()):\n",
    "        "
   ]
  },
  {
   "cell_type": "code",
   "execution_count": null,
   "id": "9e3e5d97-54e8-4e29-8df5-1586b1a506fd",
   "metadata": {},
   "outputs": [],
   "source": [
    "def fill mode(df, group_coll, group_col2, col_name):\n",
    "for group in list(df[group_col1].unique()):\n",
    "    for group2 in list(df"
   ]
  },
  {
   "cell_type": "code",
   "execution_count": null,
   "id": "a26374fc-e33b-4e1c-b174-b61dee40f413",
   "metadata": {},
   "outputs": [],
   "source": [
    "df_notnull = df[df.columns{df.isnull().any()]]\n",
    "df_notnull.columns"
   ]
  },
  {
   "cell_type": "code",
   "execution_count": null,
   "id": "594c9811-f1ce-45c6-b93b-bf07c68b970e",
   "metadata": {},
   "outputs": [],
   "source": [
    "for col in df_notnull.columns:\n",
    "    print(first_looking(col))\n",
    "    print()\n",
    "    "
   ]
  },
  {
   "cell_type": "code",
   "execution_count": null,
   "id": "6169f9de-65bd-40bd-b8ec-9c73bee005bf",
   "metadata": {},
   "outputs": [],
   "source": [
    "first_looking(\"make_model\", \"make\", \"model\")\n"
   ]
  },
  {
   "cell_type": "code",
   "execution_count": null,
   "id": "c45f8417-d7fb-47b8-9a01-82a223a430f2",
   "metadata": {},
   "outputs": [],
   "source": [
    "df[['make_model', 'make', 'model']].sample(20)\n"
   ]
  },
  {
   "cell_type": "code",
   "execution_count": null,
   "id": "22388615-00b3-41e2-82b3-3f746b7f6018",
   "metadata": {},
   "outputs": [],
   "source": []
  },
  {
   "cell_type": "code",
   "execution_count": null,
   "id": "08176a85-ff77-405e-bc1d-697a5b3d5aa1",
   "metadata": {},
   "outputs": [],
   "source": [
    "df.model.isnull().sum()\n"
   ]
  },
  {
   "cell_type": "code",
   "execution_count": null,
   "id": "a670d5f3-b72b-46d6-ad04-48174ee7dd37",
   "metadata": {},
   "outputs": [],
   "source": [
    "df['engine_size'].fillna('-', implace=True)\n"
   ]
  },
  {
   "cell_type": "code",
   "execution_count": null,
   "id": "0258ddc9-56cd-4ad3-8f4c-f47c76497419",
   "metadata": {},
   "outputs": [],
   "source": [
    "\n",
    "fill(df, 'make_model', 'body_type', 'engine_size', 'mode')"
   ]
  },
  {
   "cell_type": "code",
   "execution_count": null,
   "id": "59de705a-4b87-40eb-8da9-e84e3ae465dc",
   "metadata": {},
   "outputs": [],
   "source": [
    "df.groupby('age').mileage.describe()"
   ]
  },
  {
   "cell_type": "code",
   "execution_count": null,
   "id": "8647baf7-eb70-4045-a360-84d8c9abdb8c",
   "metadata": {},
   "outputs": [],
   "source": [
    "first_looking('mileage')"
   ]
  },
  {
   "cell_type": "code",
   "execution_count": null,
   "id": "340734b7-6e83-49c9-838b-e0aff43f57a8",
   "metadata": {},
   "outputs": [],
   "source": [
    "df.groupby(['mmake_model', 'age']).mileage.transform('mean')"
   ]
  },
  {
   "cell_type": "code",
   "execution_count": null,
   "id": "8404df1f-0297-43ff-a314-9fd7532194fa",
   "metadata": {},
   "outputs": [],
   "source": [
    "df['mileage'].fillna(df.groupby(['make_model', 'age']).mileage.transform('mean', inplace=True)"
   ]
  },
  {
   "cell_type": "code",
   "execution_count": null,
   "id": "33c29b9e-40b8-44f0-8859-daa9854fd818",
   "metadata": {},
   "outputs": [],
   "source": [
    "fill_mode(df, 'make_model', "
   ]
  },
  {
   "cell_type": "code",
   "execution_count": null,
   "id": "9baeb1b3-511c-47a0-bf84-00e8e744eba9",
   "metadata": {},
   "outputs": [],
   "source": [
    "first_looking(\"warranty\")"
   ]
  },
  {
   "cell_type": "code",
   "execution_count": null,
   "id": "c586383d-1657-4158-af76-c5d47b9edb06",
   "metadata": {},
   "outputs": [],
   "source": [
    "df.loc[df[2warranty2] == '-' ]['age'].value_counts(dropna=False).sort_index()\n"
   ]
  },
  {
   "cell_type": "code",
   "execution_count": null,
   "id": "fe329ff2-9c69-41d1-9914-9373fb2a30d4",
   "metadata": {},
   "outputs": [],
   "source": [
    "def warrantyclassifier(x):\n",
    "    if '-' in x:\n",
    "        return 'No'\n",
    "        "
   ]
  },
  {
   "cell_type": "code",
   "execution_count": null,
   "id": "d183edfe-187a-485f-9a17-049ff8711934",
   "metadata": {},
   "outputs": [],
   "source": [
    "df['gears']."
   ]
  },
  {
   "cell_type": "code",
   "execution_count": null,
   "id": "24acb98f-0fca-492d-bbdd-15ccd69fee9f",
   "metadata": {},
   "outputs": [],
   "source": [
    "first_looking('gears')"
   ]
  },
  {
   "cell_type": "code",
   "execution_count": null,
   "id": "7e5444cb-8adc-49c6-b44e-0bb8f0f8ba44",
   "metadata": {},
   "outputs": [],
   "source": [
    "first_looking('seats') mod ile doldur"
   ]
  },
  {
   "cell_type": "code",
   "execution_count": null,
   "id": "e21888f8-2c8f-4f25-ae4c-8c1c01acf5ee",
   "metadata": {},
   "outputs": [],
   "source": [
    "first_looking"
   ]
  },
  {
   "cell_type": "code",
   "execution_count": null,
   "id": "058eef53-9848-4162-8004-bc1435a78390",
   "metadata": {},
   "outputs": [],
   "source": [
    "df.groupby('fuel_type')[['cons_avg']].describe()\n"
   ]
  },
  {
   "cell_type": "code",
   "execution_count": null,
   "id": "c7968164-a446-415b-8043-2760044f0e53",
   "metadata": {},
   "outputs": [],
   "source": [
    "df['energy_efficiency_class'].replace('-', np.nan, inplace=True)"
   ]
  },
  {
   "cell_type": "code",
   "execution_count": null,
   "id": "e117dfa9-80ac-4f54-855b-d91754aa59b1",
   "metadata": {},
   "outputs": [],
   "source": [
    "fill(df, 'make_model', 'age', 'energy_efficiency_class', 'mode')\n"
   ]
  },
  {
   "cell_type": "code",
   "execution_count": null,
   "id": "8b879b95-f9f9-4450-aaaf-aaa18167e24f",
   "metadata": {},
   "outputs": [],
   "source": []
  },
  {
   "cell_type": "code",
   "execution_count": null,
   "id": "234b22d8-6826-4510-8c77-660b795ad220",
   "metadata": {},
   "outputs": [],
   "source": []
  },
  {
   "cell_type": "code",
   "execution_count": null,
   "id": "5d841abc-92e1-4115-b120-c7dd517e0839",
   "metadata": {},
   "outputs": [],
   "source": []
  }
 ],
 "metadata": {
  "kernelspec": {
   "display_name": "Python 3 (ipykernel)",
   "language": "python",
   "name": "python3"
  },
  "language_info": {
   "codemirror_mode": {
    "name": "ipython",
    "version": 3
   },
   "file_extension": ".py",
   "mimetype": "text/x-python",
   "name": "python",
   "nbconvert_exporter": "python",
   "pygments_lexer": "ipython3",
   "version": "3.12.4"
  }
 },
 "nbformat": 4,
 "nbformat_minor": 5
}
